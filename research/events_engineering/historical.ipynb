{
 "cells": [
  {
   "cell_type": "code",
   "execution_count": 1,
   "id": "initial_id",
   "metadata": {
    "collapsed": true,
    "ExecuteTime": {
     "end_time": "2024-02-25T14:44:40.123055413Z",
     "start_time": "2024-02-25T14:44:39.957781610Z"
    }
   },
   "outputs": [],
   "source": [
    "historical = \"https://ieconnects.ie.edu/events?show=past\"\n",
    "\n",
    "import yaml\n",
    "from selenium import webdriver\n",
    "from ieconnects_login import login, DEFAULT_HYPER\n",
    "from ieconnect_club import open_club_page\n",
    "from communications.mail_helpers import open_mails_page, compose_email, select_email_members, fill_email_content, preview_and_send_mail\n",
    "import time\n",
    "\n",
    "with open(\"credentials.yaml\") as f:\n",
    "    credentials = yaml.load(f, Loader=yaml.FullLoader)\n",
    "username = credentials[\"username\"]\n",
    "password = credentials[\"password\"]\n",
    "\n",
    "HYPER = DEFAULT_HYPER\n",
    "\n",
    "# driver = webdriver.Firefox()\n"
   ]
  },
  {
   "cell_type": "code",
   "outputs": [],
   "source": [
    "# make it so that it can be run from the command line with the\n",
    "# driver not being visible\n",
    "options = webdriver.FirefoxOptions()\n",
    "if HYPER[\"headless\"]:\n",
    "    options.add_argument('--headless')\n",
    "driver = webdriver.Firefox(options=options)\n"
   ],
   "metadata": {
    "collapsed": false,
    "ExecuteTime": {
     "end_time": "2024-02-25T14:48:37.866701954Z",
     "start_time": "2024-02-25T14:48:31.501028018Z"
    }
   },
   "id": "7bb287c8a96a42b6",
   "execution_count": 25
  },
  {
   "cell_type": "code",
   "outputs": [
    {
     "name": "stdout",
     "output_type": "stream",
     "text": [
      "LOGGING IN\n",
      "STAGE 1 .. 2 .. 3 .. 4 .. 5\n",
      "LOGGED IN\n"
     ]
    }
   ],
   "source": [
    "driver = login(driver, HYPER, username, password)\n",
    "driver.implicitly_wait(3)\n",
    "time.sleep(5)\n"
   ],
   "metadata": {
    "collapsed": false,
    "ExecuteTime": {
     "end_time": "2024-02-25T14:48:53.270518225Z",
     "start_time": "2024-02-25T14:48:37.904330958Z"
    }
   },
   "id": "96dc21366be7aafe",
   "execution_count": 26
  },
  {
   "cell_type": "code",
   "outputs": [],
   "source": [
    "import pandas as pd\n",
    "events = pd.DataFrame()"
   ],
   "metadata": {
    "collapsed": false,
    "ExecuteTime": {
     "end_time": "2024-02-25T14:48:53.284527465Z",
     "start_time": "2024-02-25T14:48:53.274239876Z"
    }
   },
   "id": "4b0e9d0e7230144d",
   "execution_count": 27
  },
  {
   "cell_type": "code",
   "outputs": [],
   "source": [
    "# get  from brw\n",
    "from bs4 import BeautifulSoup\n",
    "def get_events_raw(start=0, end=100):\n",
    "    #api = \"https://ieconnects.ie.edu/mobile_ws/v17/mobile_events_list?range=40&limit=40&filter1=past&filter4_contains=OR&filter4_notcontains=OR&order=undefined&search_word=&=&1708863225384=\"\n",
    "    api = f\"https://ieconnects.ie.edu/mobile_ws/v17/mobile_events_list?range={start}&limit={end}&filter1=past&filter4_contains=OR&filter4_notcontains=OR&order=undefined&search_word=&=&1708863225384=\"\n",
    "    ap=driver.get(api)\n",
    "    html = driver.page_source;\n",
    "    # get body html w bs4\n",
    "    soup = BeautifulSoup(html, \"html.parser\")\n",
    "    # soup get body string\n",
    "    body = soup.find(\"body\")\n",
    "    text = body.text\n",
    "    import json\n",
    "    data = json.loads(text);\n",
    "    return data[1:]\n",
    "\n",
    "\n",
    "import json\n",
    "def many_events(count):\n",
    "    # split into (0,n1), (n1,n2), (n2,n3), ... (nN, count)\n",
    "    step = 100\n",
    "    ranges = [(i, i+step) for i in range(0, count, step)]\n",
    "    events = []\n",
    "    for r in ranges:\n",
    "        print(f\"getting events {r[0]} to {r[1]}\")\n",
    "        try:\n",
    "            events += get_events_raw(start=r[0], end=r[1])\n",
    "            # cache every 100 events\n",
    "            with open(\"cache.json\", \"w\") as f:\n",
    "                json.dump(events, f)\n",
    "        except:\n",
    "            print(f\"failed to get events {r[0]} to {r[1]}\")2\n"
   ],
   "metadata": {
    "collapsed": false,
    "ExecuteTime": {
     "end_time": "2024-02-25T14:49:20.981282437Z",
     "start_time": "2024-02-25T14:49:20.938320261Z"
    }
   },
   "id": "ceb35c25d2bb3b8",
   "execution_count": 30
  },
  {
   "cell_type": "code",
   "outputs": [
    {
     "name": "stdout",
     "output_type": "stream",
     "text": [
      "getting events 0 to 100\n",
      "getting events 100 to 200\n",
      "getting events 200 to 300\n",
      "getting events 300 to 400\n",
      "getting events 400 to 500\n",
      "getting events 500 to 600\n",
      "getting events 600 to 700\n",
      "getting events 700 to 800\n",
      "getting events 800 to 900\n",
      "getting events 900 to 1000\n",
      "getting events 1000 to 1100\n",
      "getting events 1100 to 1200\n",
      "getting events 1200 to 1300\n",
      "getting events 1300 to 1400\n",
      "getting events 1400 to 1500\n",
      "getting events 1500 to 1600\n",
      "getting events 1600 to 1700\n",
      "getting events 1700 to 1800\n",
      "getting events 1800 to 1900\n",
      "Unexpected exception formatting exception. Falling back to standard exception\n"
     ]
    },
    {
     "name": "stderr",
     "output_type": "stream",
     "text": [
      "Traceback (most recent call last):\n",
      "  File \"/usr/lib/python3.11/site-packages/IPython/core/interactiveshell.py\", line 3553, in run_code\n",
      "    exec(code_obj, self.user_global_ns, self.user_ns)\n",
      "  File \"/tmp/ipykernel_232503/3409730444.py\", line 1, in <module>\n",
      "    many = many_events(2000)\n",
      "           ^^^^^^^^^^^^^^^^^\n",
      "  File \"/tmp/ipykernel_232503/2035649841.py\", line 26, in many_events\n",
      "    events += get_events_raw(start=r[0], end=r[1])\n",
      "              ^^^^^^^^^^^^^^^^^^^^^^^^^^^^^^^^^^^^\n",
      "  File \"/tmp/ipykernel_232503/2035649841.py\", line 6, in get_events_raw\n",
      "    ap=driver.get(api)\n",
      "       ^^^^^^^^^^^^^^^\n",
      "  File \"/home/velocitatem/.local/lib/python3.11/site-packages/selenium/webdriver/remote/webdriver.py\", line 353, in get\n",
      "    self.execute(Command.GET, {\"url\": url})\n",
      "  File \"/home/velocitatem/.local/lib/python3.11/site-packages/selenium/webdriver/remote/webdriver.py\", line 344, in execute\n",
      "    self.error_handler.check_response(response)\n",
      "  File \"/home/velocitatem/.local/lib/python3.11/site-packages/selenium/webdriver/remote/errorhandler.py\", line 229, in check_response\n",
      "    raise exception_class(message, screen, stacktrace)\n",
      "selenium.common.exceptions.TimeoutException: Message: Navigation timed out after 300000 ms\n",
      "Stacktrace:\n",
      "RemoteError@chrome://remote/content/shared/RemoteError.sys.mjs:8:8\n",
      "WebDriverError@chrome://remote/content/shared/webdriver/Errors.sys.mjs:189:5\n",
      "TimeoutError@chrome://remote/content/shared/webdriver/Errors.sys.mjs:691:5\n",
      "bail@chrome://remote/content/marionette/sync.sys.mjs:211:19\n",
      "\n",
      "\n",
      "During handling of the above exception, another exception occurred:\n",
      "\n",
      "Traceback (most recent call last):\n",
      "  File \"/usr/lib/python3.11/site-packages/IPython/core/interactiveshell.py\", line 2144, in showtraceback\n",
      "    stb = self.InteractiveTB.structured_traceback(\n",
      "          ^^^^^^^^^^^^^^^^^^^^^^^^^^^^^^^^^^^^^^^^\n",
      "  File \"/usr/lib/python3.11/site-packages/IPython/core/ultratb.py\", line 1435, in structured_traceback\n",
      "    return FormattedTB.structured_traceback(\n",
      "           ^^^^^^^^^^^^^^^^^^^^^^^^^^^^^^^^^\n",
      "  File \"/usr/lib/python3.11/site-packages/IPython/core/ultratb.py\", line 1326, in structured_traceback\n",
      "    return VerboseTB.structured_traceback(\n",
      "           ^^^^^^^^^^^^^^^^^^^^^^^^^^^^^^^\n",
      "  File \"/usr/lib/python3.11/site-packages/IPython/core/ultratb.py\", line 1173, in structured_traceback\n",
      "    formatted_exception = self.format_exception_as_a_whole(etype, evalue, etb, number_of_lines_of_context,\n",
      "                          ^^^^^^^^^^^^^^^^^^^^^^^^^^^^^^^^^^^^^^^^^^^^^^^^^^^^^^^^^^^^^^^^^^^^^^^^^^^^^^^^\n",
      "  File \"/usr/lib/python3.11/site-packages/IPython/core/ultratb.py\", line 1088, in format_exception_as_a_whole\n",
      "    frames.append(self.format_record(record))\n",
      "                  ^^^^^^^^^^^^^^^^^^^^^^^^^^\n",
      "  File \"/usr/lib/python3.11/site-packages/IPython/core/ultratb.py\", line 970, in format_record\n",
      "    frame_info.lines, Colors, self.has_colors, lvals\n",
      "    ^^^^^^^^^^^^^^^^\n",
      "  File \"/usr/lib/python3.11/site-packages/IPython/core/ultratb.py\", line 792, in lines\n",
      "    return self._sd.lines\n",
      "           ^^^^^^^^^^^^^^\n",
      "  File \"/usr/lib/python3.11/site-packages/stack_data/utils.py\", line 145, in cached_property_wrapper\n",
      "    value = obj.__dict__[self.func.__name__] = self.func(obj)\n",
      "                                               ^^^^^^^^^^^^^^\n",
      "  File \"/usr/lib/python3.11/site-packages/stack_data/core.py\", line 734, in lines\n",
      "    pieces = self.included_pieces\n",
      "             ^^^^^^^^^^^^^^^^^^^^\n",
      "  File \"/usr/lib/python3.11/site-packages/stack_data/utils.py\", line 145, in cached_property_wrapper\n",
      "    value = obj.__dict__[self.func.__name__] = self.func(obj)\n",
      "                                               ^^^^^^^^^^^^^^\n",
      "  File \"/usr/lib/python3.11/site-packages/stack_data/core.py\", line 677, in included_pieces\n",
      "    scope_pieces = self.scope_pieces\n",
      "                   ^^^^^^^^^^^^^^^^^\n",
      "  File \"/usr/lib/python3.11/site-packages/stack_data/utils.py\", line 145, in cached_property_wrapper\n",
      "    value = obj.__dict__[self.func.__name__] = self.func(obj)\n",
      "                                               ^^^^^^^^^^^^^^\n",
      "  File \"/usr/lib/python3.11/site-packages/stack_data/core.py\", line 614, in scope_pieces\n",
      "    scope_start, scope_end = self.source.line_range(self.scope)\n",
      "                             ^^^^^^^^^^^^^^^^^^^^^^^^^^^^^^^^^^\n",
      "  File \"/usr/lib/python3.11/site-packages/stack_data/core.py\", line 178, in line_range\n",
      "    return line_range(self.asttext(), node)\n",
      "                      ^^^^^^^^^^^^^^\n",
      "  File \"/usr/lib/python3.11/site-packages/executing/executing.py\", line 333, in asttext\n",
      "    self._asttext = ASTText(self.text, tree=self.tree, filename=self.filename)\n",
      "                    ^^^^^^^^^^^^^^^^^^^^^^^^^^^^^^^^^^^^^^^^^^^^^^^^^^^^^^^^^^\n",
      "  File \"/usr/lib/python3.11/site-packages/asttokens/asttokens.py\", line 305, in __init__\n",
      "    super(ASTText, self).__init__(source_text, filename)\n",
      "  File \"/usr/lib/python3.11/site-packages/asttokens/asttokens.py\", line 47, in __init__\n",
      "    source_text = six.ensure_text(source_text)\n",
      "                  ^^^^^^^^^^^^^^^\n",
      "AttributeError: module 'six' has no attribute 'ensure_text'\n"
     ]
    }
   ],
   "source": [
    "many = many_events(2000)"
   ],
   "metadata": {
    "collapsed": false,
    "ExecuteTime": {
     "end_time": "2024-02-25T15:30:31.353854830Z",
     "start_time": "2024-02-25T14:49:22.960199703Z"
    }
   },
   "id": "10a13cd9f47794d4",
   "execution_count": 31
  },
  {
   "cell_type": "code",
   "outputs": [
    {
     "data": {
      "text/plain": "{'fields': 'date_separator,eventId,eventUid,eventName,eventDates,eventCategory,eventLocation,clubId,clubLogin,clubName,eventAttendees,eventPicture,eventPriceRange,eventButtonLabel,eventBadges,totalTicketsSoldValue,checkbox_id,displayAttendees,eventUrl,displayType,registered,waiting_list,eventTags,coHostId,custom_time_instruction,checkin,registrationStatus,printTicket,eventTimezone,ariaEventDetails,ariaEventDetailsWithLocation,parentEventIds,all_results_hidden,hybrid,',\n 'listingSeparator': None,\n 'counter': '16815',\n 'p0': 'false',\n 'p1': '300367873',\n 'p2': '9de91104ee5fb18e4f440bcd9495b02b',\n 'p3': 'Weekly Running Practices',\n 'p4': 'Sat, Feb 24, 20247 PM – 11:30 AM',\n 'p5': 'Hybrid',\n 'p6': 'Private Location (register to display)',\n 'p7': '300002813',\n 'p8': 'ierunners',\n 'p9': 'IE Runners Club MIX',\n 'p10': '0',\n 'p11': '/upload/ie/2023/r2_image_upload_300315698_Final_Template__116124246.png',\n 'p12': 'FREE',\n 'p13': 'Register',\n 'p14': '',\n 'p15': '0.00',\n 'p16': '300367873',\n 'p17': '0',\n 'p18': '/rsvp?id=300367873',\n 'p19': 'event',\n 'p20': '',\n 'p21': '',\n 'p22': 'HybridAthletic CenterSportsWellness / wellbeing - Mental We...Wellness / wellbeing - Physical ...',\n 'p23': '0',\n 'p24': None,\n 'p25': '',\n 'p26': '',\n 'p27': '',\n 'p28': '(GMT+1)',\n 'p29': 'Weekly Running Practices. Saturday, 24 February 2024 At 7:00 PM, (GMT+1).',\n 'p30': 'Weekly Running Practices. Saturday, 24 February 2024 At 7:00 PM, (GMT+1). Private Location ( register to display ) .',\n 'p31': 'null',\n 'p32': 'False',\n 'p33': '',\n 'p34': None,\n 'p35': None,\n 'p36': None,\n 'p37': None,\n 'p38': None,\n 'p39': None,\n 'htmlFields': ['eventDates',\n  'eventLocation',\n  'eventPriceRange',\n  'eventBadges',\n  'eventTags',\n  'registrationStatus',\n  'printTicket',\n  'parentEventIds']}"
     },
     "execution_count": 40,
     "metadata": {},
     "output_type": "execute_result"
    }
   ],
   "source": [
    "# load cache.json\n",
    "import json\n",
    "with open(\"cache.json\", \"r\") as f:\n",
    "    cache = json.load(f)\n",
    "last100e = cache"
   ],
   "metadata": {
    "collapsed": false,
    "ExecuteTime": {
     "end_time": "2024-02-25T18:19:49.570409754Z",
     "start_time": "2024-02-25T18:19:49.256757832Z"
    }
   },
   "id": "8bf216611120ab7c",
   "execution_count": 40
  },
  {
   "cell_type": "code",
   "outputs": [
    {
     "data": {
      "text/plain": "13169"
     },
     "execution_count": 33,
     "metadata": {},
     "output_type": "execute_result"
    }
   ],
   "source": [
    "len(last100e)"
   ],
   "metadata": {
    "collapsed": false,
    "ExecuteTime": {
     "end_time": "2024-02-25T15:33:03.180822063Z",
     "start_time": "2024-02-25T15:33:03.170762722Z"
    }
   },
   "id": "7ebf38f6b5c8fcee",
   "execution_count": 33
  },
  {
   "cell_type": "code",
   "outputs": [
    {
     "name": "stdout",
     "output_type": "stream",
     "text": [
      "\n",
      "\n",
      "\n",
      "\n",
      "\n",
      "\n",
      "\n",
      "\n",
      "\n",
      "\n",
      "\n",
      "\n",
      "\n",
      "\n",
      "\n",
      "\n",
      "\n",
      "\n",
      "\n",
      "\n",
      "\n",
      "\n",
      "\n",
      "\n",
      "\n",
      "\n",
      "\n",
      "\n",
      "\n",
      "\n",
      "\n",
      "\n",
      "\n",
      "\n",
      "set()\n"
     ]
    },
    {
     "data": {
      "text/plain": "{'eventId': '300367873',\n 'eventUid': '9de91104ee5fb18e4f440bcd9495b02b',\n 'eventName': 'Weekly Running Practices',\n 'eventCategory': 'Hybrid',\n 'eventLocation': 'Private Location (register to display)',\n 'clubId': '300002813',\n 'clubLogin': 'ierunners',\n 'clubName': 'IE Runners Club MIX',\n 'eventAttendees': '0',\n 'eventPicture': '/upload/ie/2023/r2_image_upload_300315698_Final_Template__116124246.png',\n 'eventPriceRange': 'FREE',\n 'eventButtonLabel': 'Register',\n 'eventBadges': 'HybridAthletic CenterSportsWellness / wellbeing - Mental We...Wellness / wellbeing - Physical ...',\n 'totalTicketsSoldValue': '0.00',\n 'checkbox_id': '300367873',\n 'eventUrl': '/rsvp?id=300367873',\n 'displayType': 'event',\n 'registered': '',\n 'waiting_list': '',\n 'eventTags': 'HybridAthletic CenterSportsWellness / wellbeing - Mental We...Wellness / wellbeing - Physical ...',\n 'coHostId': '0',\n 'custom_time_instruction': None,\n 'checkin': '',\n 'registrationStatus': '',\n 'printTicket': '',\n 'eventTimezone': '(GMT+1)',\n 'ariaEventDetails': 'Weekly Running Practices. Saturday, 24 February 2024 At 7:00 PM, (GMT+1).',\n 'ariaEventDetailsWithLocation': 'Weekly Running Practices. Saturday, 24 February 2024 At 7:00 PM, (GMT+1). Private Location ( register to display ) .',\n 'parentEventIds': 'null',\n 'all_results_hidden': 'False',\n 'hybrid': '',\n 'dayofweek': 'Sat',\n 'month': 'Feb',\n 'day': '24',\n 'year': '2024',\n 'time': '7 PM – 11:30 AM'}"
     },
     "execution_count": 57,
     "metadata": {},
     "output_type": "execute_result"
    }
   ],
   "source": [
    "def get_event_info(event_item):\n",
    "    # some pn might be missing, if so, fill with None\n",
    "    pks = [f\"p{i}\" for i in range(1, 34)]\n",
    "    # rename keys\n",
    "    i = 0\n",
    "    event_info1 = {}\n",
    "    fld = [a for a in event_item['fields'].split(\",\") if a != \"\"]\n",
    "    for field in fld:\n",
    "        print()\n",
    "        event_info1[field] = event_item[f\"p{i}\"]\n",
    "        i+=1\n",
    "    event_item = {k: event_item.get(k, None) for k in pks}\n",
    "    event_info = {\n",
    "        \"eventId\": event_item[\"p1\"],\n",
    "        \"eventUid\": event_item[\"p2\"],\n",
    "        \"eventName\": event_item[\"p3\"],\n",
    "        \"eventDates\": event_item[\"p4\"],\n",
    "        \"eventCategory\": event_item[\"p5\"],\n",
    "        \"eventLocation\": event_item[\"p6\"],\n",
    "        \"clubId\": event_item[\"p7\"],\n",
    "        \"clubLogin\": event_item[\"p8\"],\n",
    "        \"clubName\": event_item[\"p9\"],\n",
    "        \"eventAttendees\": event_item[\"p10\"],\n",
    "        \"eventPicture\": event_item[\"p11\"],\n",
    "        \"eventPriceRange\": event_item[\"p12\"],\n",
    "        \"eventButtonLabel\": event_item[\"p13\"],\n",
    "        \"eventBadges\": event_item[\"p22\"],\n",
    "        \"totalTicketsSoldValue\": event_item[\"p15\"],\n",
    "        \"checkbox_id\": event_item[\"p16\"],\n",
    "        \"eventUrl\": event_item[\"p18\"],\n",
    "        \"displayType\": event_item[\"p19\"],\n",
    "        \"registered\": event_item[\"p20\"],\n",
    "        \"waiting_list\": event_item[\"p21\"],\n",
    "        \"eventTags\": event_item[\"p22\"],\n",
    "        \"coHostId\": event_item[\"p23\"],\n",
    "        \"custom_time_instruction\": event_item[\"p24\"],\n",
    "        \"checkin\": event_item[\"p25\"],\n",
    "        \"registrationStatus\": event_item[\"p26\"],\n",
    "        \"printTicket\": event_item[\"p27\"],\n",
    "        \"eventTimezone\": event_item[\"p28\"],\n",
    "        \"ariaEventDetails\": event_item[\"p29\"],\n",
    "        \"ariaEventDetailsWithLocation\": event_item[\"p30\"],\n",
    "        \"parentEventIds\": event_item[\"p31\"],\n",
    "        \"all_results_hidden\": event_item[\"p32\"],\n",
    "        \"hybrid\": event_item[\"p33\"],\n",
    "    }\n",
    "    # compute event info and add to event_info1\n",
    "    # diff:\n",
    "    # extract ifo from eventDates dayofweek, month, day, year, time, timezone\n",
    "    if event_info[\"eventDates\"] is not None:\n",
    "        try:\n",
    "            event_info[\"eventDates\"] = event_info[\"eventDates\"].split(\", \")\n",
    "            dinfo = {\n",
    "                \"dayofweek\": event_info[\"eventDates\"][0],\n",
    "                \"month\": event_info[\"eventDates\"][1].split(\" \")[0],\n",
    "                \"day\": event_info[\"eventDates\"][1].split(\" \")[1],\n",
    "                # first 4 digits are year\n",
    "                \"year\": event_info[\"eventDates\"][2][:4],\n",
    "                \"time\": event_info[\"eventDates\"][2][4:],\n",
    "            }\n",
    "            del event_info[\"eventDates\"]\n",
    "            event_info.update(dinfo)\n",
    "        except:\n",
    "            pass\n",
    "    return event_info\n",
    "\n",
    "get_event_info(last100e[1])"
   ],
   "metadata": {
    "collapsed": false,
    "ExecuteTime": {
     "end_time": "2024-02-25T18:27:45.391775291Z",
     "start_time": "2024-02-25T18:27:45.366534534Z"
    }
   },
   "id": "b578f59aa617b68b",
   "execution_count": 57
  },
  {
   "cell_type": "code",
   "outputs": [],
   "source": [
    "last100df = [get_event_info(e) for e in last100e]\n",
    "last100df = pd.DataFrame(last100df)"
   ],
   "metadata": {
    "collapsed": false,
    "ExecuteTime": {
     "end_time": "2024-02-25T15:33:06.995885135Z",
     "start_time": "2024-02-25T15:33:06.775935556Z"
    }
   },
   "id": "f083b541203e23be",
   "execution_count": 35
  },
  {
   "cell_type": "code",
   "outputs": [
    {
     "data": {
      "text/plain": "       eventId   eventUid eventName eventCategory           eventLocation  \\\ncount    13169      13169     13169         12185                   12185   \nunique    2679       2465      1424             5                     690   \ntop             separator     False     On Campus  Online Event Zoom link   \nfreq        25        984       984          4947                    1739   \n\n           clubId      clubLogin            clubName eventAttendees  \\\ncount       12185          12185               12185          12185   \nunique        172            172                 172            236   \ntop     200000640  TalentCareers  Talent and Careers              0   \nfreq         3136           3136                3136           1714   \n\n                                             eventPicture  ...  \\\ncount                                               12185  ...   \nunique                                               1372  ...   \ntop     /upload/ie/2022/r2_image_upload_200022780_0000...  ...   \nfreq                                                  364  ...   \n\n       ariaEventDetailsWithLocation parentEventIds all_results_hidden hybrid  \\\ncount                         12185          12185              12185  12185   \nunique                         2443             55                  1      2   \ntop                                           null              False          \nfreq                             25           9107              12185  11432   \n\n       dayofweek  month    day   year          time eventDates  \ncount      12160  12160  12160  12160         12160         25  \nunique         7     10     31      2           371          1  \ntop          Tue    Nov     14   2023  12 PM – 1 PM         []  \nfreq        4752   3872    646  10302          1454         25  \n\n[4 rows x 37 columns]",
      "text/html": "<div>\n<style scoped>\n    .dataframe tbody tr th:only-of-type {\n        vertical-align: middle;\n    }\n\n    .dataframe tbody tr th {\n        vertical-align: top;\n    }\n\n    .dataframe thead th {\n        text-align: right;\n    }\n</style>\n<table border=\"1\" class=\"dataframe\">\n  <thead>\n    <tr style=\"text-align: right;\">\n      <th></th>\n      <th>eventId</th>\n      <th>eventUid</th>\n      <th>eventName</th>\n      <th>eventCategory</th>\n      <th>eventLocation</th>\n      <th>clubId</th>\n      <th>clubLogin</th>\n      <th>clubName</th>\n      <th>eventAttendees</th>\n      <th>eventPicture</th>\n      <th>...</th>\n      <th>ariaEventDetailsWithLocation</th>\n      <th>parentEventIds</th>\n      <th>all_results_hidden</th>\n      <th>hybrid</th>\n      <th>dayofweek</th>\n      <th>month</th>\n      <th>day</th>\n      <th>year</th>\n      <th>time</th>\n      <th>eventDates</th>\n    </tr>\n  </thead>\n  <tbody>\n    <tr>\n      <th>count</th>\n      <td>13169</td>\n      <td>13169</td>\n      <td>13169</td>\n      <td>12185</td>\n      <td>12185</td>\n      <td>12185</td>\n      <td>12185</td>\n      <td>12185</td>\n      <td>12185</td>\n      <td>12185</td>\n      <td>...</td>\n      <td>12185</td>\n      <td>12185</td>\n      <td>12185</td>\n      <td>12185</td>\n      <td>12160</td>\n      <td>12160</td>\n      <td>12160</td>\n      <td>12160</td>\n      <td>12160</td>\n      <td>25</td>\n    </tr>\n    <tr>\n      <th>unique</th>\n      <td>2679</td>\n      <td>2465</td>\n      <td>1424</td>\n      <td>5</td>\n      <td>690</td>\n      <td>172</td>\n      <td>172</td>\n      <td>172</td>\n      <td>236</td>\n      <td>1372</td>\n      <td>...</td>\n      <td>2443</td>\n      <td>55</td>\n      <td>1</td>\n      <td>2</td>\n      <td>7</td>\n      <td>10</td>\n      <td>31</td>\n      <td>2</td>\n      <td>371</td>\n      <td>1</td>\n    </tr>\n    <tr>\n      <th>top</th>\n      <td></td>\n      <td>separator</td>\n      <td>False</td>\n      <td>On Campus</td>\n      <td>Online Event Zoom link</td>\n      <td>200000640</td>\n      <td>TalentCareers</td>\n      <td>Talent and Careers</td>\n      <td>0</td>\n      <td>/upload/ie/2022/r2_image_upload_200022780_0000...</td>\n      <td>...</td>\n      <td></td>\n      <td>null</td>\n      <td>False</td>\n      <td></td>\n      <td>Tue</td>\n      <td>Nov</td>\n      <td>14</td>\n      <td>2023</td>\n      <td>12 PM – 1 PM</td>\n      <td>[]</td>\n    </tr>\n    <tr>\n      <th>freq</th>\n      <td>25</td>\n      <td>984</td>\n      <td>984</td>\n      <td>4947</td>\n      <td>1739</td>\n      <td>3136</td>\n      <td>3136</td>\n      <td>3136</td>\n      <td>1714</td>\n      <td>364</td>\n      <td>...</td>\n      <td>25</td>\n      <td>9107</td>\n      <td>12185</td>\n      <td>11432</td>\n      <td>4752</td>\n      <td>3872</td>\n      <td>646</td>\n      <td>10302</td>\n      <td>1454</td>\n      <td>25</td>\n    </tr>\n  </tbody>\n</table>\n<p>4 rows × 37 columns</p>\n</div>"
     },
     "execution_count": 37,
     "metadata": {},
     "output_type": "execute_result"
    }
   ],
   "source": [
    "last100df.describe()"
   ],
   "metadata": {
    "collapsed": false,
    "ExecuteTime": {
     "end_time": "2024-02-25T15:33:15.587199442Z",
     "start_time": "2024-02-25T15:33:15.408350946Z"
    }
   },
   "id": "3ec598a35f3ae53b",
   "execution_count": 37
  },
  {
   "cell_type": "code",
   "outputs": [],
   "source": [
    "# save to csv\n",
    "last100df.to_csv(\"13k.csv\", index=False)"
   ],
   "metadata": {
    "collapsed": false,
    "ExecuteTime": {
     "end_time": "2024-02-25T15:33:47.931374730Z",
     "start_time": "2024-02-25T15:33:47.605792564Z"
    }
   },
   "id": "beb9657fc69f1fb3",
   "execution_count": 38
  },
  {
   "cell_type": "code",
   "outputs": [],
   "source": [],
   "metadata": {
    "collapsed": false
   },
   "id": "4c29a4bb5dbcf6b0"
  }
 ],
 "metadata": {
  "kernelspec": {
   "display_name": "Python 3",
   "language": "python",
   "name": "python3"
  },
  "language_info": {
   "codemirror_mode": {
    "name": "ipython",
    "version": 2
   },
   "file_extension": ".py",
   "mimetype": "text/x-python",
   "name": "python",
   "nbconvert_exporter": "python",
   "pygments_lexer": "ipython2",
   "version": "2.7.6"
  }
 },
 "nbformat": 4,
 "nbformat_minor": 5
}
